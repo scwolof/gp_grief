{
 "cells": [
  {
   "cell_type": "code",
   "execution_count": 1,
   "metadata": {
    "collapsed": false
   },
   "outputs": [],
   "source": [
    "%matplotlib inline\n",
    "import pymcmc as pm\n",
    "import numpy as np\n",
    "import gp_grief\n",
    "gp_grief.debug()\n",
    "from numpy.testing import *\n",
    "import matplotlib.pyplot as plt\n",
    "from pdb import set_trace"
   ]
  },
  {
   "cell_type": "markdown",
   "metadata": {},
   "source": [
    "Initialize the dataset"
   ]
  },
  {
   "cell_type": "code",
   "execution_count": 2,
   "metadata": {
    "collapsed": false
   },
   "outputs": [],
   "source": [
    "np.random.seed(0)\n",
    "x = np.linspace(0,1, num=5).reshape((-1,1))\n",
    "#y = np.sin(x*2.*np.pi) + np.random.normal(scale=0.1, size=x.shape)\n",
    "y = np.random.normal(scale=1., size=x.shape)"
   ]
  },
  {
   "cell_type": "markdown",
   "metadata": {},
   "source": [
    "Check the gradients of the log likelihood and log prior"
   ]
  },
  {
   "cell_type": "code",
   "execution_count": 3,
   "metadata": {
    "collapsed": false
   },
   "outputs": [
    {
     "name": "stdout",
     "output_type": "stream",
     "text": [
      "[ 16:50:09 ] gp_grief.kern DEBUG: Initializing GPy - RBF kernel.\n",
      "[ 16:50:09 ] gp_grief.models DEBUG: Initializing GPRegression model.\n",
      "\n",
      "GPRegression Model\n",
      "| Name      |   Value | Constraint   |\n",
      "|-----------+---------+--------------|\n",
      "| noise_var |     0.1 | +ve          |\n",
      "\n",
      "GPy - RBF kernel\n",
      "| Name        |   Value | Constraint   |\n",
      "|-------------+---------+--------------|\n",
      "| variance    |     1   | ['+ve']      |\n",
      "| lengthscale |     0.5 | ['+ve']      |\n",
      "\n",
      "Printing the transformed parameters:\n",
      "[-2.25216846  0.54132485 -0.43275213]\n",
      "[ 16:50:09 ] gp_grief.models INFO: Gradient check passed.\n"
     ]
    }
   ],
   "source": [
    "# initialize model\n",
    "kern = gp_grief.kern.GPyKernel(1, kernel='RBF', variance=1., lengthscale=0.5)\n",
    "model = gp_grief.models.GPRegression(x,y,kern, noise_var=0.1)\n",
    "model = gp_grief.models.PyMCMC_Wrapper(model)\n",
    "print model\n",
    "print \"Printing the transformed parameters:\"\n",
    "print model.params \n",
    "\n",
    "# perform the check\n",
    "model.checkgrad()"
   ]
  }
 ],
 "metadata": {
  "kernelspec": {
   "display_name": "Python 2",
   "language": "python",
   "name": "python2"
  },
  "language_info": {
   "codemirror_mode": {
    "name": "ipython",
    "version": 2
   },
   "file_extension": ".py",
   "mimetype": "text/x-python",
   "name": "python",
   "nbconvert_exporter": "python",
   "pygments_lexer": "ipython2",
   "version": "2.7.12"
  }
 },
 "nbformat": 4,
 "nbformat_minor": 0
}
