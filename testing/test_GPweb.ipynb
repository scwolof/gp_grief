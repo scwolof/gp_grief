{
 "cells": [
  {
   "cell_type": "code",
   "execution_count": 1,
   "metadata": {
    "collapsed": false
   },
   "outputs": [],
   "source": [
    "import numpy as np\n",
    "import gp_grief\n",
    "from scipy.stats import multivariate_normal as mvn #.logpdf\n",
    "from scipy.stats import chi2\n",
    "import pymcmc as pm\n",
    "from numpy.testing import *\n",
    "from pdb import set_trace\n",
    "gp_grief.debug()"
   ]
  },
  {
   "cell_type": "markdown",
   "metadata": {},
   "source": [
    "Initialize the dataset"
   ]
  },
  {
   "cell_type": "code",
   "execution_count": 2,
   "metadata": {
    "collapsed": true
   },
   "outputs": [],
   "source": [
    "np.random.seed(0)\n",
    "X = np.random.randn(100, 4)\n",
    "X[:, 0] = 1. # Intercept column.\n",
    "Y = np.dot(X, [0.5, 0.1, 0.25, 1.]) + 0.1 * np.random.randn(X.shape[0])"
   ]
  },
  {
   "cell_type": "markdown",
   "metadata": {},
   "source": [
    "Check the log-likelihood value"
   ]
  },
  {
   "cell_type": "code",
   "execution_count": 3,
   "metadata": {
    "collapsed": false
   },
   "outputs": [
    {
     "name": "stdout",
     "output_type": "stream",
     "text": [
      "[ 14:22:49 ] gp_grief.models DEBUG: Initializing GPweb model.\n",
      "passed\n"
     ]
    }
   ],
   "source": [
    "np.random.seed(0)\n",
    "m = gp_grief.models.GPweb(Phi=X, y=Y)\n",
    "tmp = np.random.rand(*m.parameters.shape) + 1e-6\n",
    "m.parameters = tmp\n",
    "ll_gpweb = m.log_likelihood()\n",
    "\n",
    "# now compute manually\n",
    "w = m.kern.parameters.reshape((1,-1))\n",
    "sig2 = m.noise_var\n",
    "Phi = X\n",
    "K = Phi.dot(np.diag(w.squeeze()).dot(Phi.T)) + sig2*np.identity(Phi.shape[0])\n",
    "ll_exact = mvn.logpdf(Y.squeeze(), mean=np.zeros(Phi.shape[0]), cov=K)\n",
    "\n",
    "assert_array_almost_equal(ll_gpweb, ll_exact)\n",
    "print \"passed\""
   ]
  },
  {
   "cell_type": "markdown",
   "metadata": {},
   "source": [
    "check the log likelihood-gradients"
   ]
  },
  {
   "cell_type": "code",
   "execution_count": 4,
   "metadata": {
    "collapsed": false
   },
   "outputs": [
    {
     "name": "stdout",
     "output_type": "stream",
     "text": [
      "[ 14:22:49 ] gp_grief.models INFO: Gradient check passed.\n"
     ]
    },
    {
     "data": {
      "text/plain": [
       "True"
      ]
     },
     "execution_count": 4,
     "metadata": {},
     "output_type": "execute_result"
    }
   ],
   "source": [
    "m.checkgrad()"
   ]
  },
  {
   "cell_type": "markdown",
   "metadata": {},
   "source": [
    "now wrap in pymcmc"
   ]
  },
  {
   "cell_type": "code",
   "execution_count": 5,
   "metadata": {
    "collapsed": false
   },
   "outputs": [
    {
     "name": "stdout",
     "output_type": "stream",
     "text": [
      "\n",
      "GPweb Model\n",
      "| Name      |    Value | Constraint   |\n",
      "|-----------+----------+--------------|\n",
      "| noise_var | 0.548815 | +ve          |\n",
      "<gp_grief.kern.WEBKernel object at 0x7fa47466eb10>\n",
      "Printing the transformed parameters:\n",
      "[-0.31306898  0.04361093 -0.18975376 -0.32239961 -0.63953869]\n",
      "[ 14:22:49 ] gp_grief.models INFO: Gradient check passed.\n"
     ]
    }
   ],
   "source": [
    "mcm = gp_grief.models.PyMCMC_Wrapper(m)\n",
    "print mcm\n",
    "print \"Printing the transformed parameters:\"\n",
    "print mcm.params \n",
    "\n",
    "# perform the check\n",
    "mcm.checkgrad()"
   ]
  }
 ],
 "metadata": {
  "kernelspec": {
   "display_name": "Python 2",
   "language": "python",
   "name": "python2"
  },
  "language_info": {
   "codemirror_mode": {
    "name": "ipython",
    "version": 2
   },
   "file_extension": ".py",
   "mimetype": "text/x-python",
   "name": "python",
   "nbconvert_exporter": "python",
   "pygments_lexer": "ipython2",
   "version": "2.7.12"
  }
 },
 "nbformat": 4,
 "nbformat_minor": 0
}
