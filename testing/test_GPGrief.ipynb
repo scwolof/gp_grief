{
 "cells": [
  {
   "cell_type": "code",
   "execution_count": 1,
   "metadata": {
    "collapsed": false
   },
   "outputs": [],
   "source": [
    "import numpy as np\n",
    "import gp_grief\n",
    "from pdb import set_trace\n",
    "from scipy.stats import multivariate_normal as mvn\n",
    "from numpy.testing import *"
   ]
  },
  {
   "cell_type": "markdown",
   "metadata": {},
   "source": [
    "For a random dataset, check to ensure that the matrix inverse, matrix determinant and log-marginal likelihood are correct"
   ]
  },
  {
   "cell_type": "code",
   "execution_count": 2,
   "metadata": {
    "collapsed": false,
    "scrolled": false
   },
   "outputs": [
    {
     "name": "stdout",
     "output_type": "stream",
     "text": [
      "Tests Passed!\n"
     ]
    }
   ],
   "source": [
    "np.random.seed(0)\n",
    "d = 5\n",
    "n = 100\n",
    "x = np.random.rand(n,d)\n",
    "y = np.random.rand(n,1)\n",
    "grid = gp_grief.grid.InducingGrid(x)\n",
    "kern = gp_grief.kern.GriefKernel(kern_list=[gp_grief.kern.GPyKernel(1,lengthscale=0.5, kernel='RBF'),]*d,\n",
    "                                grid=grid, n_eigs=50)\n",
    "m = gp_grief.models.GPGrief(x,y,kern,noise_var=0.1)\n",
    "lml = m._compute_log_likelihood(m.parameters)\n",
    "K = m._mv_cov(np.identity(n))\n",
    "\n",
    "# check the linear system solve accuracy\n",
    "alp = m._mv_cov_inv(y)\n",
    "alp_exact = np.linalg.solve(K, y)\n",
    "assert_array_almost_equal(alp, alp_exact, decimal=6, err_msg=\"linear system solve failed.\")\n",
    "\n",
    "# check the log determinant\n",
    "log_det = m._cov_log_det()\n",
    "log_det_exact = np.linalg.slogdet(K)[1]\n",
    "assert_almost_equal(log_det, log_det_exact, decimal=6, err_msg=\"log determinant failed.\")\n",
    "\n",
    "# check the LML accuacy\n",
    "lml_exact = mvn.logpdf(x=y.squeeze(), mean=np.zeros(n), cov=K)\n",
    "assert_almost_equal(lml, lml_exact, decimal=6, err_msg=\"LML failed.\")\n",
    "\n",
    "print \"Tests Passed!\""
   ]
  }
 ],
 "metadata": {
  "kernelspec": {
   "display_name": "Python 2",
   "language": "python",
   "name": "python2"
  },
  "language_info": {
   "codemirror_mode": {
    "name": "ipython",
    "version": 2
   },
   "file_extension": ".py",
   "mimetype": "text/x-python",
   "name": "python",
   "nbconvert_exporter": "python",
   "pygments_lexer": "ipython2",
   "version": "2.7.12"
  }
 },
 "nbformat": 4,
 "nbformat_minor": 0
}
