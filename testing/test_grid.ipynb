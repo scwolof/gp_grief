{
 "cells": [
  {
   "cell_type": "code",
   "execution_count": 1,
   "metadata": {
    "collapsed": false
   },
   "outputs": [],
   "source": [
    "%matplotlib inline\n",
    "import gp_grief\n",
    "gp_grief.debug()\n",
    "import numpy as np\n",
    "import matplotlib.pyplot as plt"
   ]
  },
  {
   "cell_type": "code",
   "execution_count": 2,
   "metadata": {
    "collapsed": true
   },
   "outputs": [],
   "source": [
    "def rastrigin(x,lin_term=None):\n",
    "    \"\"\"\n",
    "    Rastrigin test function\n",
    "    input should be in range [-5.12, 5.12]\n",
    "    if x in range [0,1], can transform by rastrigin((x*2-1)*5.12)\n",
    "    if lin_term is not None then will add a linear term to the first dimension. This helps\n",
    "    to make the function non-symetric wrt the input dimensions\n",
    "    \"\"\"\n",
    "    assert x.ndim == 2\n",
    "    d = x.shape[1]\n",
    "    f = 10*d\n",
    "    for i in range(d):\n",
    "        f = f+(np.power(x[:,i,None],2) - 10*np.cos(2*np.pi*x[:,i,None]));\n",
    "    if lin_term is not None:\n",
    "        f += lin_term*x[:,(0,)]\n",
    "    return f"
   ]
  },
  {
   "cell_type": "markdown",
   "metadata": {},
   "source": [
    "# `InducingGrid` Testing\n",
    "Create some 2D scattered data and create a grid"
   ]
  },
  {
   "cell_type": "code",
   "execution_count": 3,
   "metadata": {
    "collapsed": false,
    "scrolled": false
   },
   "outputs": [
    {
     "name": "stdout",
     "output_type": "stream",
     "text": [
      "[ 14:36:46 ] gp_grief.grid DEBUG: Initializing inducing grid.\n",
      "[ 14:36:46 ] gp_grief.grid DEBUG: plotting inducing grid\n"
     ]
    },
    {
     "data": {
      "image/png": "[encoded data removed]",
      "text/plain": [
       "<matplotlib.figure.Figure at 0x7f84fed7e950>"
      ]
     },
     "metadata": {},
     "output_type": "display_data"
    }
   ],
   "source": [
    "np.random.seed(0)\n",
    "d = 2\n",
    "N = 10000\n",
    "x = np.random.normal(loc=0,scale=1,size=(N,d))\n",
    "xg = gp_grief.grid.InducingGrid(x=x, mbar=10, eq=True, to_plot=True)"
   ]
  },
  {
   "cell_type": "markdown",
   "metadata": {},
   "source": [
    "Now define a 1D user-specified grid"
   ]
  },
  {
   "cell_type": "code",
   "execution_count": 4,
   "metadata": {
    "collapsed": false
   },
   "outputs": [
    {
     "name": "stdout",
     "output_type": "stream",
     "text": [
      "[ 14:36:47 ] gp_grief.grid DEBUG: Initializing inducing grid.\n"
     ]
    }
   ],
   "source": [
    "N = 10\n",
    "d = 1\n",
    "xg = gp_grief.grid.InducingGrid(xg=np.linspace(0,1,num=20).reshape(1,-1,1))\n",
    "xg.eq = True # here I specify that the grid given is equally spaced"
   ]
  }
 ],
 "metadata": {
  "kernelspec": {
   "display_name": "Python 2",
   "language": "python",
   "name": "python2"
  },
  "language_info": {
   "codemirror_mode": {
    "name": "ipython",
    "version": 2
   },
   "file_extension": ".py",
   "mimetype": "text/x-python",
   "name": "python",
   "nbconvert_exporter": "python",
   "pygments_lexer": "ipython2",
   "version": "2.7.12"
  }
 },
 "nbformat": 4,
 "nbformat_minor": 2
}
