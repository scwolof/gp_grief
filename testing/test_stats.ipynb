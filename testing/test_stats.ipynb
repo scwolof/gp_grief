{
 "cells": [
  {
   "cell_type": "code",
   "execution_count": 1,
   "metadata": {
    "collapsed": true
   },
   "outputs": [],
   "source": [
    "import numpy as np\n",
    "import gp_grief\n",
    "from numpy.testing import *"
   ]
  },
  {
   "cell_type": "code",
   "execution_count": 2,
   "metadata": {
    "collapsed": false
   },
   "outputs": [],
   "source": [
    "np.random.seed(0)\n",
    "N = 100\n",
    "data = np.random.rand(N,10)\n",
    "ov = gp_grief.stats.StreamMeanVar(ddof=0)\n",
    "for d in data:\n",
    "    ov.include(d)\n",
    "assert_array_almost_equal(data.std(axis=0), ov.std, err_msg=\"Standard deviation failed\", decimal=10)\n",
    "assert_array_almost_equal(data.var(axis=0), ov.variance, err_msg=\"Variance failed\", decimal=10)\n",
    "assert_array_almost_equal(data.mean(axis=0), ov.mean, err_msg=\"Mean failed\", decimal=10)"
   ]
  }
 ],
 "metadata": {
  "kernelspec": {
   "display_name": "Python 2",
   "language": "python",
   "name": "python2"
  },
  "language_info": {
   "codemirror_mode": {
    "name": "ipython",
    "version": 2
   },
   "file_extension": ".py",
   "mimetype": "text/x-python",
   "name": "python",
   "nbconvert_exporter": "python",
   "pygments_lexer": "ipython2",
   "version": "2.7.13"
  }
 },
 "nbformat": 4,
 "nbformat_minor": 2
}
