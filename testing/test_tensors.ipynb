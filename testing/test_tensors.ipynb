{
 "cells": [
  {
   "cell_type": "code",
   "execution_count": 1,
   "metadata": {
    "collapsed": false
   },
   "outputs": [],
   "source": [
    "import sys\n",
    "sys.path.append('../..') # just in case gp_grief isn't in the path\n",
    "import numpy as np\n",
    "from numpy.testing import assert_array_almost_equal, assert_array_equal\n",
    "from time import time\n",
    "import gp_grief.tensors\n",
    "from gp_grief.tensors import *\n",
    "import pdb"
   ]
  },
  {
   "cell_type": "markdown",
   "metadata": {},
   "source": [
    "# `KronMatrix` Testing"
   ]
  },
  {
   "cell_type": "markdown",
   "metadata": {},
   "source": [
    "test some basic kronecker product operations"
   ]
  },
  {
   "cell_type": "code",
   "execution_count": 2,
   "metadata": {
    "collapsed": false,
    "scrolled": false
   },
   "outputs": [
    {
     "name": "stdout",
     "output_type": "stream",
     "text": [
      "\n",
      "********************************************************************************\n",
      "sym=True\n",
      "\n",
      "expansion\n",
      "\tRelative error is 0\n",
      "\n",
      "transpose\n",
      "\tRelative error is 0\n",
      "\n",
      "vector product\n",
      "\tRelative error is 1.45337e-16\n",
      "\ttime for mvprod 0.000125 seconds\n",
      "\n",
      "linear system solve\n",
      "\tRelative error is 3.3406e-11\n",
      "\n",
      "cholesky decomposition\n",
      "\tRelative error is 4.36564e-12\n",
      "\n",
      "schur decomposition\n",
      "\tRelative error is 1.23528e-11\n",
      "\n",
      "svd\n",
      "\n",
      "********************************************************************************\n",
      "sym=False\n",
      "\n",
      "expansion\n",
      "\tRelative error is 0\n",
      "\n",
      "transpose\n",
      "\tRelative error is 0\n",
      "\n",
      "vector product\n",
      "\tRelative error is 1.45337e-16\n",
      "\ttime for mvprod 4.51e-05 seconds\n",
      "\n",
      "linear system solve\n",
      "\tRelative error is 3.3406e-11\n",
      "\n",
      "cholesky decomposition\n",
      "\tRelative error is 4.36564e-12\n",
      "\n",
      "schur decomposition\n",
      "\tRelative error is 1.23528e-11\n",
      "\n",
      "svd\n",
      "********************************************************************************\n",
      "tests passed!\n"
     ]
    }
   ],
   "source": [
    "for sym in [True, False]:\n",
    "    print '\\n' + '*' * 80\n",
    "    print 'sym=%s\\n' % (sym)\n",
    "    np.random.seed(0)\n",
    "    d = 3\n",
    "    n = 5\n",
    "    N = n**d\n",
    "    sym = True\n",
    "    A = [np.array(np.random.rand(n,n),order='F') for i in range(d)]\n",
    "    if sym:\n",
    "        A = [np.array(Ai.dot(Ai.T) + 1e-6*np.identity(n),order='F') for Ai in A]\n",
    "    Ab = 1\n",
    "    for i in range(d):\n",
    "        Ab = np.kron(Ab,A[i])\n",
    "    K = gp_grief.tensors.KronMatrix(A, sym=sym)\n",
    "    x = np.matrix(np.random.rand(n**d,1))\n",
    "\n",
    "    # test the expansion\n",
    "    print \"expansion\"\n",
    "    error = np.linalg.norm(K.expand()-Ab)/np.linalg.norm(Ab)\n",
    "    print '\\tRelative error is %g' % error\n",
    "    if error > 1e-10:\n",
    "        raise RuntimeError('error too large.')\n",
    "\n",
    "    # test the transpose\n",
    "    print \"\\ntranspose\"\n",
    "    error =  np.linalg.norm(K.T.expand()-Ab.T)/np.linalg.norm(Ab)\n",
    "    print '\\tRelative error is %g' % error\n",
    "    if error > 1e-10:\n",
    "        raise RuntimeError('error too large.')\n",
    "\n",
    "    # test a matrix vector product\n",
    "    print \"\\nvector product\"\n",
    "    error = np.linalg.norm(K*x-Ab.dot(x))/np.linalg.norm(Ab.dot(x))\n",
    "    print '\\tRelative error is %g' % error\n",
    "    if error > 1e-10:\n",
    "        raise RuntimeError('error too large.')\n",
    "    t = time()\n",
    "    K.kronvec_prod(x);\n",
    "    print \"\\ttime for mvprod %.3g seconds\" % (time()-t)\n",
    "\n",
    "    # test solving a linear system\n",
    "    print \"\\nlinear system solve\"\n",
    "    error = np.linalg.norm(Ab.dot(K.kronvec_div(x))-x)/np.linalg.norm(x)\n",
    "    error = max(error, np.linalg.norm(K*(K.kronvec_div(x))-x)/np.linalg.norm(x)) # verify consistency\n",
    "    print '\\tRelative error is %g' % error\n",
    "    if error > 1e-10:\n",
    "        raise RuntimeError('error too large.')\n",
    "\n",
    "    # test chol\n",
    "    print \"\\ncholesky decomposition\"\n",
    "    C = K.chol()\n",
    "    error =  np.linalg.norm((C.T).kronkron_prod(C).expand() - Ab)/np.linalg.norm(Ab) # try and reconstruct K\n",
    "    error = max(error, np.linalg.norm(K*(C.solve_chol(x))-x)/np.linalg.norm(x)) # solve linear system\n",
    "    print '\\tRelative error is %g' % error\n",
    "    if error > 1e-10:\n",
    "        raise RuntimeError('error too large.')\n",
    "\n",
    "    # test schur\n",
    "    print \"\\nschur decomposition\"\n",
    "    Q,T = K.schur()\n",
    "    error = np.linalg.norm(Q.kronkron_prod(T).kronkron_prod(Q.T).expand() - Ab)/np.linalg.norm(Ab) # try and reconstruct K\n",
    "    error = max(error, np.linalg.norm(K*(Q.solve_schur(T,x))-x)/np.linalg.norm(x)) # solve linear system\n",
    "    lam = 1e-3\n",
    "    y = Q.solve_schur(T,x,shift=lam)\n",
    "    error = max(error, np.linalg.norm(K*y+lam*y-x)/np.linalg.norm(x)) # solve a shifted linear system\n",
    "    print '\\tRelative error is %g' % error\n",
    "    if error > 1e-10:\n",
    "        raise RuntimeError('error too large.')\n",
    "\n",
    "    # test svd\n",
    "    print \"\\nsvd\"\n",
    "    Q,eig_vals = K.svd()\n",
    "    # reconstruct K\n",
    "    assert_array_almost_equal(Q.expand().dot(np.diag(eig_vals.expand()).dot(Q.T.expand())), Ab)\n",
    "    # solve shifted linear system\n",
    "    y = Q.solve_schur(eig_vals.expand(),x,shift=lam)\n",
    "    assert_array_almost_equal(K*y+lam*y, x)\n",
    "print \"*\"*80\n",
    "print \"tests passed!\""
   ]
  },
  {
   "cell_type": "markdown",
   "metadata": {},
   "source": [
    "Test the eigenvalue/vector sorting to get the largest and smallest"
   ]
  },
  {
   "cell_type": "code",
   "execution_count": 3,
   "metadata": {
    "collapsed": false
   },
   "outputs": [
    {
     "name": "stdout",
     "output_type": "stream",
     "text": [
      "done tests.\n"
     ]
    }
   ],
   "source": [
    "np.random.seed(1)\n",
    "d = 10\n",
    "n = 3\n",
    "eigs = gp_grief.tensors.KronMatrix([np.random.rand(n) for i in range(d)])\n",
    "all_eigs = eigs.expand() # compute all the eigenvalues for comparison\n",
    "n_eigs = 5 # this is the number of largest/smallest that I want to find\n",
    "for log_expand in [False,True]:\n",
    "    for mode in ['largest', 'smallest']:\n",
    "        # get the n_eigs largest/smallest\n",
    "        eig_order, extreme_eigs, global_loc = eigs.find_extremum_eigs(n_eigs,mode=mode,log_expand=log_expand,\n",
    "                                                                      sort=True, compute_global_loc=True)\n",
    "        if log_expand: # transform back from log space\n",
    "            extreme_eigs = np.exp(extreme_eigs)\n",
    "\n",
    "        # check if extreme_eigs is being computed correctly\n",
    "        assert_array_almost_equal(extreme_eigs, \n",
    "            [np.prod([eigs.K[i][eig_order[j,i]] for i in range(d)]) for j in range(n_eigs)])\n",
    "\n",
    "        # ensure global_loc was computed correctly\n",
    "        assert_array_almost_equal(extreme_eigs, all_eigs[global_loc], decimal=15)\n",
    "\n",
    "        # then compare with the brute force expansion to ensure the correct values were selected\n",
    "        if mode == 'largest':\n",
    "            extreme_eigs_exact = np.sort(all_eigs)[::-1][:n_eigs]\n",
    "        elif mode == 'smallest':\n",
    "            extreme_eigs_exact = np.sort(all_eigs)[:n_eigs]\n",
    "        assert_array_almost_equal(extreme_eigs[::-1], np.sort(extreme_eigs_exact),decimal=15) \n",
    "print 'done tests.'"
   ]
  },
  {
   "cell_type": "markdown",
   "metadata": {},
   "source": [
    "test the log determinant"
   ]
  },
  {
   "cell_type": "code",
   "execution_count": 4,
   "metadata": {
    "collapsed": false
   },
   "outputs": [
    {
     "name": "stdout",
     "output_type": "stream",
     "text": [
      "done tests.\n"
     ]
    }
   ],
   "source": [
    "for sym in [True,False]:\n",
    "    np.random.seed(0)\n",
    "    A = [np.random.rand(5,5)+np.eye(5) for i in range(2)]\n",
    "    A = [Ai.dot(Ai.T)+1e-6*np.eye(5) for Ai in A] # make it SPD\n",
    "    A = gp_grief.tensors.KronMatrix(A,sym=sym)\n",
    "    eig_vals = A.eig_vals()\n",
    "    assert_array_almost_equal(eig_vals.log_det(), np.linalg.slogdet(A.expand())[1])\n",
    "print 'done tests.'"
   ]
  },
  {
   "cell_type": "markdown",
   "metadata": {},
   "source": [
    "test flipping/shuffling the matrix-multiplication order.\n",
    "\n",
    "*Note that this isn't so much a test of the `tensors` library as it is for future reference to recall how to do this.*"
   ]
  },
  {
   "cell_type": "code",
   "execution_count": 5,
   "metadata": {
    "collapsed": false
   },
   "outputs": [
    {
     "name": "stdout",
     "output_type": "stream",
     "text": [
      "Testing shuffle order [1 0 2]\n",
      "Testing shuffle order [2 0 1]\n",
      "done tests.\n"
     ]
    }
   ],
   "source": [
    "np.random.seed(0)\n",
    "shapes = [(2,3), (2,2), (5,2)] # sizes of submatricies\n",
    "d = len(shapes)\n",
    "\n",
    "# first do the exact computation\n",
    "K = gp_grief.tensors.KronMatrix([np.random.rand(*shape) for shape in shapes])\n",
    "x = np.random.rand(K.shape[1], 1)\n",
    "y = K*x\n",
    "\n",
    "# now shuffle K and the vector x and try to recover y\n",
    "for i in range(1,d): # i is the index which should go first\n",
    "    # do the forward shuffle\n",
    "    shuffle = np.concatenate(([i,], np.delete(np.arange(d), i)))\n",
    "    print \"Testing shuffle order %s\" % shuffle\n",
    "    K_s = gp_grief.tensors.KronMatrix([K.K[axis] for axis in shuffle]) # shuffled kronecker product\n",
    "    X = x.reshape(zip(*shapes)[1]) # reshape x to the grid shape\n",
    "    x_s = np.transpose(X, shuffle).reshape((-1,1)) # shuffle and turn back to vector\n",
    "    y_s = K_s * x_s\n",
    "    \n",
    "    # now reverse the shuffle in y\n",
    "    new_shapes = [shapes[j] for j in shuffle] # shuffled shape of grid\n",
    "    reverse = np.squeeze([np.where(shuffle==j)[0] for j in range(d)]) # order of the reverse shuffle\n",
    "    Y_s = y_s.reshape(zip(*new_shapes)[0]) # reshape y_s to the new (shuffled) grid shape\n",
    "    yy = np.transpose(Y_s, reverse).reshape((-1,1)) # reverse shuffle and turn back to vector\n",
    "    assert_array_almost_equal(yy,y)\n",
    "print 'done tests.'"
   ]
  },
  {
   "cell_type": "markdown",
   "metadata": {},
   "source": [
    "# `SelectionMatrix` Testing"
   ]
  },
  {
   "cell_type": "code",
   "execution_count": 6,
   "metadata": {
    "collapsed": false
   },
   "outputs": [
    {
     "name": "stdout",
     "output_type": "stream",
     "text": [
      "done tests.\n"
     ]
    }
   ],
   "source": [
    "np.random.seed(0)\n",
    "A = np.random.rand(20,20)\n",
    "sel = np.random.choice(A.shape[0], size=30)\n",
    "\n",
    "# check SelectionMatrix\n",
    "S = gp_grief.tensors.SelectionMatrix((sel, A.shape[0]))\n",
    "assert_array_equal(A[sel], S.mul(A)) # check if able to perform simple subset\n",
    "\n",
    "# check SelectionMatrixSparse\n",
    "S = gp_grief.tensors.SelectionMatrixSparse((sel, A.shape[0]))\n",
    "assert_array_equal(A[sel], S.mul(A)) # check if able to perform simple subset\n",
    "\n",
    "# check if able to perform unique subset then expand\n",
    "assert_array_equal(A[sel], S.mul_unique(A)[S.unique_inverse])\n",
    "print \"done tests.\""
   ]
  },
  {
   "cell_type": "markdown",
   "metadata": {},
   "source": [
    "# `BlockMatrix` Testing"
   ]
  },
  {
   "cell_type": "code",
   "execution_count": 7,
   "metadata": {
    "collapsed": false
   },
   "outputs": [
    {
     "name": "stdout",
     "output_type": "stream",
     "text": [
      "done tests.\n"
     ]
    }
   ],
   "source": [
    "np.random.seed(0)\n",
    "\n",
    "# initialize random matricies\n",
    "a = np.random.rand(2,3); b = np.random.rand(2,2);\n",
    "c = np.random.rand(3,3); d = np.random.rand(3,2);\n",
    "A = np.vstack((np.hstack((a,b)), np.hstack((c,d)))); \n",
    "Ablock = gp_grief.tensors.BlockMatrix(A=np.array([[Array(a),Array(b)],[Array(c),Array(d)]])); \n",
    "\n",
    "# test the transpose and expansion operations\n",
    "assert_array_almost_equal(A,  Ablock.expand()  , decimal=8)\n",
    "assert_array_almost_equal(A.T,Ablock.T.expand(), decimal=8)\n",
    "\n",
    "# initialize random vectors\n",
    "x = np.random.rand(A.shape[1],1); \n",
    "z = np.random.rand(A.shape[0],1);\n",
    "\n",
    "# test matrix vector products\n",
    "assert_array_almost_equal(A.dot(x),   Ablock  *x, decimal=8)\n",
    "assert_array_almost_equal(A.T.dot(z), Ablock.T*z, decimal=8)\n",
    "\n",
    "print 'done tests.'"
   ]
  },
  {
   "cell_type": "markdown",
   "metadata": {},
   "source": [
    "# `KhatriRaoMatrix` Testing\n",
    "We will test here matrix-vector products with a row partitioned Khatri-Rao product matrix and its transpose"
   ]
  },
  {
   "cell_type": "code",
   "execution_count": 8,
   "metadata": {
    "collapsed": false
   },
   "outputs": [
    {
     "name": "stdout",
     "output_type": "stream",
     "text": [
      "done tests.\n"
     ]
    }
   ],
   "source": [
    "np.random.seed(0)\n",
    "n_rows = 5\n",
    "n_cols = (2,3,5)\n",
    "partition = 0 # row partitioned\n",
    "\n",
    "# generate random matricies and initialize Khatri-Rao Matrix\n",
    "Araw = np.empty(len(n_cols),dtype=object)\n",
    "Araw[:] = [np.random.rand(n_rows,nc) for nc in n_cols]\n",
    "Akr = gp_grief.tensors.KhatriRaoMatrix(A=Araw, partition=partition)\n",
    "\n",
    "# expand the Khatri-Rao matrix to use for testing\n",
    "Abig = Akr.expand()\n",
    "\n",
    "# initialize randome vectors for matrix vector products\n",
    "x = np.random.rand(Abig.shape[1],1); \n",
    "z = np.random.rand(Abig.shape[0],1);\n",
    "\n",
    "# test matrix vector products\n",
    "assert_array_almost_equal(Abig.dot(x),   Akr  *x, decimal=8)\n",
    "assert_array_almost_equal(Abig.T.dot(z), Akr.T*z, decimal=8)\n",
    "\n",
    "print 'done tests.'"
   ]
  },
  {
   "cell_type": "markdown",
   "metadata": {},
   "source": [
    "# `RowColKhatriRaoMatrix` Testing\n",
    "use `KhatriRaoMatrix` and `KronMatrix` to test this"
   ]
  },
  {
   "cell_type": "code",
   "execution_count": 9,
   "metadata": {
    "collapsed": false
   },
   "outputs": [
    {
     "name": "stdout",
     "output_type": "stream",
     "text": [
      "done tests.\n"
     ]
    }
   ],
   "source": [
    "# get random matricies: the overall matrix will have shape (p, N)\n",
    "np.random.seed(0)\n",
    "N = 5\n",
    "p = 6 \n",
    "d = 3\n",
    "grid_shape = np.random.randint(low=2,high=15,size=d)\n",
    "R = np.empty(d,dtype=object)\n",
    "K = np.empty(d,dtype=object)\n",
    "C = np.empty(d,dtype=object)\n",
    "R[:] = [np.random.rand(p,m)-0.5 for m in grid_shape]\n",
    "K[:] = [np.random.rand(m,m)-0.5 for m in grid_shape]\n",
    "C[:] = [np.random.rand(m,N)-0.5 for m in grid_shape]\n",
    "for i in range(d):\n",
    "    R[i][0,:] = 0. # set this to zero so there's a zero in the final matrix\n",
    "vec = np.random.rand(N,1)-0.5\n",
    "vecT = np.random.rand(p,1)-0.5\n",
    "\n",
    "# initialize RowKronColKhatriRaoMatrix\n",
    "A = RowColKhatriRaoMatrix(R=R,K=K,C=C)\n",
    "\n",
    "# initialize RowColKhatriRaoMatrixTransposed\n",
    "AT = RowColKhatriRaoMatrixTransposed(R=R,K=K,C=C)\n",
    "\n",
    "# initialize KhatriRaoMatrix's and KronMatrix to test\n",
    "R = KhatriRaoMatrix(R,partition=0)\n",
    "C = KhatriRaoMatrix(C,partition=1)\n",
    "K = KronMatrix(K)\n",
    "\n",
    "# test matvec\n",
    "assert_array_almost_equal(A*vec, R*(K*(C*vec)))\n",
    "\n",
    "# test matvec with transpose\n",
    "assert_array_almost_equal(A.T*vecT, C.T*(K.T*(R.T*vecT)))\n",
    "\n",
    "# now try with RowColKhatriRaoMatrixTransposed\n",
    "assert_array_almost_equal(AT*vecT, C.T*(K.T*(R.T*vecT)))\n",
    "\n",
    "# test the expand method to compute the whole matrix\n",
    "RKC = R.expand().dot(K.expand().dot(C.expand()))\n",
    "assert_array_almost_equal(A.expand(), RKC)\n",
    "\n",
    "# test the log expand\n",
    "log_A, sign = A.expand(logged=True)\n",
    "assert_array_almost_equal(sign*np.exp(log_A), RKC)\n",
    "\n",
    "print 'done tests.'"
   ]
  },
  {
   "cell_type": "markdown",
   "metadata": {},
   "source": [
    "# `TensorProduct` Testing\n",
    "Test matrix-vector product\n",
    "$$ABCDv$$"
   ]
  },
  {
   "cell_type": "code",
   "execution_count": 10,
   "metadata": {
    "collapsed": false
   },
   "outputs": [
    {
     "name": "stdout",
     "output_type": "stream",
     "text": [
      "done tests.\n"
     ]
    }
   ],
   "source": [
    "np.random.seed(0)\n",
    "A =Array(np.random.rand(5,3))\n",
    "B =Array(np.random.rand(3,8))\n",
    "C =Array(np.random.rand(8,16))\n",
    "D =Array(np.random.rand(16,12))\n",
    "vec = np.random.rand(12,1)\n",
    "exact_arr = A*(B*(C*D.A))\n",
    "arr = gp_grief.tensors.TensorProduct([A,B,C,D])\n",
    "assert_array_almost_equal(exact_arr.dot(vec), arr*vec, decimal=8)\n",
    "\n",
    "print 'done tests.'"
   ]
  }
 ],
 "metadata": {
  "anaconda-cloud": {},
  "kernelspec": {
   "display_name": "Python 2",
   "language": "python",
   "name": "python2"
  },
  "language_info": {
   "codemirror_mode": {
    "name": "ipython",
    "version": 2
   },
   "file_extension": ".py",
   "mimetype": "text/x-python",
   "name": "python",
   "nbconvert_exporter": "python",
   "pygments_lexer": "ipython2",
   "version": "2.7.12"
  }
 },
 "nbformat": 4,
 "nbformat_minor": 1
}
